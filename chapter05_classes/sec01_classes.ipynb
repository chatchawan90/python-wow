{
 "cells": [
  {
   "cell_type": "markdown",
   "metadata": {},
   "source": [
    "# Classes\n",
    "\n",
    "Much as we couldn't do anything in Python without functions\n",
    "but only just introduced them in the previuos notebook,\n",
    "we truly cannot do anything in Python without objects\n",
    "because in Python, everything is an object! \n",
    "\n",
    "In this notebook, we'll finally get \n",
    "a more formal sense of what objects are,\n",
    "get to see where objects come from,\n",
    "and learn how to define new types of objects.\n",
    "\n",
    "The key idea of *classes* and *objects* are\n",
    " * To group together a set of values and a set of functions that act upon them.\n",
    " * To define a generic type and then create specific instances of that type.\n",
    "\n",
    "We define a new class using the `class <ClassName>` syntax.\n",
    "In general, class names should always be capitalized.\n",
    "We can create a very simple class below to represent a person:"
   ]
  },
  {
   "cell_type": "code",
   "execution_count": 23,
   "metadata": {},
   "outputs": [],
   "source": [
    "class Person:\n",
    "    name = \"No name yet\""
   ]
  },
  {
   "cell_type": "markdown",
   "metadata": {},
   "source": [
    "Now we can create specific instances of this simple class \n",
    "using the syntax `Person()`. \n",
    "The act of creating an instance \n",
    "is aptly called *instantiation*."
   ]
  },
  {
   "cell_type": "code",
   "execution_count": 25,
   "metadata": {},
   "outputs": [],
   "source": [
    "marcy = Person()\n",
    "nancy = Person()"
   ]
  },
  {
   "cell_type": "markdown",
   "metadata": {},
   "source": [
    "We can check that `marcy` and `nancy` \n",
    "are two distinct objects both of type `Person`."
   ]
  },
  {
   "cell_type": "code",
   "execution_count": 26,
   "metadata": {},
   "outputs": [
    {
     "name": "stdout",
     "output_type": "stream",
     "text": [
      "marcy id:  4449875472\n",
      "nancy id:  4449874640\n"
     ]
    }
   ],
   "source": [
    "print(\"marcy id: \", id(marcy))\n",
    "print(\"nancy id: \", id(nancy))"
   ]
  },
  {
   "cell_type": "code",
   "execution_count": 28,
   "metadata": {},
   "outputs": [
    {
     "name": "stdout",
     "output_type": "stream",
     "text": [
      "marcy's type: <class '__main__.Person'>\n",
      "nancy's type <class '__main__.Person'>\n"
     ]
    }
   ],
   "source": [
    "print(\"marcy's type:\", type(marcy))\n",
    "print(\"nancy's type\", type(nancy))"
   ]
  },
  {
   "cell_type": "markdown",
   "metadata": {},
   "source": [
    "Next, we can check that each has a name attribute,\n",
    "and we can overwrite each to have a more fitting `name`."
   ]
  },
  {
   "cell_type": "code",
   "execution_count": 31,
   "metadata": {},
   "outputs": [
    {
     "name": "stdout",
     "output_type": "stream",
     "text": [
      "No name yet\n",
      "No name yet\n"
     ]
    }
   ],
   "source": [
    "print(marcy.name)\n",
    "print(nancy.name)"
   ]
  },
  {
   "cell_type": "code",
   "execution_count": 32,
   "metadata": {},
   "outputs": [
    {
     "name": "stdout",
     "output_type": "stream",
     "text": [
      "Marcy\n",
      "Nancy\n"
     ]
    }
   ],
   "source": [
    "marcy.name = \"Marcy\"\n",
    "nancy.name = \"Nancy\"\n",
    "print(marcy.name)\n",
    "print(nancy.name)"
   ]
  },
  {
   "cell_type": "markdown",
   "metadata": {},
   "source": [
    "### The constructor\n",
    "Rather than first creating an object and \n",
    "then having to do all th work to make it bespoke,\n",
    "we can pass in a set of values that will be used\n",
    "to customize the object at the time it is constructed.\n",
    "The syntax for this involves defining an `__init__()` method.\n",
    "Note that for all methods, the first argument is `self`.\n",
    "Here self is a reference to that very object!"
   ]
  },
  {
   "cell_type": "code",
   "execution_count": 33,
   "metadata": {},
   "outputs": [],
   "source": [
    "class Person2:\n",
    "    def __init__(self, name):\n",
    "        self.name = name"
   ]
  },
  {
   "cell_type": "code",
   "execution_count": 34,
   "metadata": {},
   "outputs": [
    {
     "name": "stdout",
     "output_type": "stream",
     "text": [
      "Marcy\n"
     ]
    }
   ],
   "source": [
    "marcy2 = Person2(\"Marcy\")\n",
    "print(marcy2.name)"
   ]
  },
  {
   "cell_type": "markdown",
   "metadata": {},
   "source": [
    "We can store arbitrary data in an object and write arbitrary methods \n",
    "for manipulating its data and returning values. \n",
    "One common pattern in machine learning is to use\n",
    "a class to represent some model family, say a logistic regression model.\n",
    "When we instantiate it, we might pass in some specific hyperparameters,\n",
    "such as the learning rate, the strength of regularization, \n",
    "the chosen optimizer that we would like to use to search for ideal parameters.\n",
    "\n",
    "Then we would define a variety of methods to do the key jobs\n",
    " * `fit(self, X, y)` --- a method that takes in inputs X and outputs y and fits the parametersto that data\n",
    " * `predict(X)` --- a method that takes in new inputs X and generates predictions based on the current parameters (these were learned via a call to the `fit` function.\n",
    " * `evaluate(X, y)` --- this method would use the current parameters together with the predict functino to generate predictions on the examples X and measure how close they are to supplied labels y. In general, we will want to evaluate the model on different data than were used to train it."
   ]
  },
  {
   "cell_type": "code",
   "execution_count": null,
   "metadata": {},
   "outputs": [],
   "source": []
  }
 ],
 "metadata": {
  "kernelspec": {
   "display_name": "Python 3",
   "language": "python",
   "name": "python3"
  },
  "language_info": {
   "codemirror_mode": {
    "name": "ipython",
    "version": 3
   },
   "file_extension": ".py",
   "mimetype": "text/x-python",
   "name": "python",
   "nbconvert_exporter": "python",
   "pygments_lexer": "ipython3",
   "version": "3.7.4"
  }
 },
 "nbformat": 4,
 "nbformat_minor": 2
}
