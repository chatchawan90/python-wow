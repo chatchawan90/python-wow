{
 "cells": [
  {
   "cell_type": "markdown",
   "metadata": {},
   "source": [
    "# R Demo with CovidCast Data\n",
    "\n",
    "This notebook demonstrates some of the basic functionality in R, using COVIDcast data. COVIDcast provides daily access to a range of COVID-related signals, from sources like symptom surveys and medical claims data, as well as standard signals such as confirmed cases and deaths. To run a cell, either press the green play button in the top right corner or press Cmd + Shift + Enter with your cursor in the cell.\n",
    "\n",
    "If you haven't installed a package you need, install it using `install.packages(PACKAGE_NAME)`. In this tutorial, we'll primarily be working with packages in tidyverse (this includes dplyr for manipulating data, and ggplot2 for plotting)."
   ]
  },
  {
   "cell_type": "code",
   "execution_count": null,
   "metadata": {},
   "outputs": [],
   "source": [
    "# You only ever need to run this once\n",
    "# install.packages(\"tidyverse\")"
   ]
  },
  {
   "cell_type": "markdown",
   "metadata": {},
   "source": [
    "Here are the specific packages we'll be using in this tutorial:"
   ]
  },
  {
   "cell_type": "code",
   "execution_count": null,
   "metadata": {},
   "outputs": [],
   "source": [
    "library(dplyr)\n",
    "library(ggplot2)"
   ]
  },
  {
   "cell_type": "markdown",
   "metadata": {},
   "source": [
    "## Load Data\n",
    "First, let's load the COVIDcast data as an R dataframe and look at its first few rows. \n",
    "Note that the data_source is fb-survey\n",
    "(responses to a Facebook survey on symptoms each user is facing), \n",
    "and the signal is smoothed-cli (smoothed signal indicating COVID-like illness)."
   ]
  },
  {
   "cell_type": "code",
   "execution_count": null,
   "metadata": {},
   "outputs": [],
   "source": [
    "# We're using an excerpt of the COVIDcast dataset. Load the csv into an R dataframe below:\n",
    "df <- read.csv('covidcast_cli_data.csv')\n",
    "\n",
    "# cast columns containing dates into date types\n",
    "df$time_value <- as.Date(df$time_value)\n",
    "df$issue <- as.Date(df$issue)\n",
    "\n",
    "df$geo_value <- as.character(df$geo_value)\n",
    "\n",
    "# In this tutorial we're only looking at the COVID-like Ilness (CLI) signal. \n",
    "# If you'd like to play with the entire COVIDcast API, install the package and load the data by uncommenting and running the following commands:\n",
    "\n",
    "# devtools::install_github(\"cmu-delphi/covidcast\", ref = \"main\",\n",
    "#                          subdir = \"R-packages/covidcast\")  # the covidcast package is not on CRAN yet, so it can be installed using the devtools package:\n",
    "# library(covidcast)\n",
    "# df <- suppressMessages(\n",
    "#   covidcast_signal(data_source = \"fb-survey\", signal = \"smoothed_cli\",\n",
    "#                    start_day = \"2020-05-01\", end_day = \"2020-12-01\",\n",
    "#                    geo_type = \"state\")\n",
    "# )\n",
    "\n",
    "df[1:10,]"
   ]
  },
  {
   "cell_type": "markdown",
   "metadata": {},
   "source": [
    "Right now, there are several columns in the dataset \n",
    "(here's the documentation which includes their meanings: https://cmu-delphi.github.io/covidcast/covidcastR/reference/covidcast_signal.html).\n",
    "Let's create a new dataframe with only the columns we care about for the sake of this analysis. \n",
    "To do so, we'll be using the `%>%` operator which ``pipes\" the data \n",
    "through from the left hand side into a `select(...)` function on the right hand side.\n",
    "Below, we select columns for: \n",
    "\n",
    "* geo_value: the state\n",
    "* time_value: the date\n",
    "* value: the value for the smoothed CLI signal\n",
    "* stderr: standard error for that value\n",
    "* sample_size: sample size available in that geography on that day"
   ]
  },
  {
   "cell_type": "code",
   "execution_count": null,
   "metadata": {},
   "outputs": [],
   "source": [
    "df <- df %>% select(geo_value, time_value, value, stderr, sample_size)\n",
    "\n",
    "head(df)"
   ]
  },
  {
   "cell_type": "markdown",
   "metadata": {},
   "source": [
    "## Basic data operations\n",
    "Let's get some basic information about this data:"
   ]
  },
  {
   "cell_type": "code",
   "execution_count": null,
   "metadata": {},
   "outputs": [],
   "source": [
    "# is there any missing data?\n",
    "sum(df %>% is.na())  # answer: no\n",
    "\n",
    "# what's the date range?\n",
    "min(df$time_value)\n",
    "max(df$time_value)  # answer: 5/1/20 to 12/1/20\n",
    "\n",
    "# what are the unique geo values?\n",
    "df %>% select(geo_value) %>% unique() # answer: 52; includes Puerto Rico (pr) and Washington D.C. (dc) as separate states"
   ]
  },
  {
   "cell_type": "markdown",
   "metadata": {},
   "source": [
    "In exploratory data analysis, it is important to define questions which drive your analysis. In this case, suppose we would like to ask: \"Which states have the most data?\"\n",
    "To get a ranked list of the states and their corresponding total sample sizes, we can group the data frame by `geo_value` and sum the `sample_size` values in each group, and then sort by descending total sample size:"
   ]
  },
  {
   "cell_type": "code",
   "execution_count": null,
   "metadata": {},
   "outputs": [],
   "source": [
    "state_sample_sizes <- df %>% \n",
    "  group_by(geo_value) %>%\n",
    "  summarize(total_sample_size = sum(sample_size)) %>%  # compute the sum of sample_sizes for each geo_value\n",
    "  arrange(-total_sample_size)  # order from greatest total_sample_size to least\n",
    "\n",
    "state_sample_sizes[1:10,]"
   ]
  },
  {
   "cell_type": "markdown",
   "metadata": {},
   "source": [
    "Let's take the top five states with the most data (in this case, it corresponds to the most Facebook survey responses)."
   ]
  },
  {
   "cell_type": "code",
   "execution_count": null,
   "metadata": {},
   "outputs": [],
   "source": [
    "top5 <- (state_sample_sizes[1:5,])$geo_value\n",
    "print(top5)"
   ]
  },
  {
   "cell_type": "markdown",
   "metadata": {},
   "source": [
    "## Plotting\n",
    "The ggplot2 package works well with dplyr, letting you create beautiful plots with just a few lines of code. On the flip side, if you'd like something other than the defaults it may take some finagling. \n",
    "Below is an example of how to plot the top five states' CLI values over the entire time range:"
   ]
  },
  {
   "cell_type": "code",
   "execution_count": null,
   "metadata": {},
   "outputs": [],
   "source": [
    "df %>%\n",
    "  filter(geo_value %in% top5) %>%\n",
    "  ggplot(aes(x=time_value, y=value, color=geo_value)) +\n",
    "  geom_line() +\n",
    "  ggtitle('CLI signal in top five states with the most data') +\n",
    "  xlab('Date') +\n",
    "  ylab('CLI Smoothed Signal') +\n",
    "  scale_x_date(date_labels=\"%b\",date_breaks=\"1 month\")"
   ]
  },
  {
   "cell_type": "markdown",
   "metadata": {},
   "source": [
    "To provide some context, we can also look at how much survey data was collected in each state over time:\n"
   ]
  },
  {
   "cell_type": "code",
   "execution_count": null,
   "metadata": {},
   "outputs": [],
   "source": [
    "df %>%\n",
    "  filter(geo_value %in% top5) %>%\n",
    "  ggplot(aes(x=time_value, y=sample_size, color=geo_value)) +\n",
    "  geom_line() +\n",
    "  ggtitle('Sample size from each state of the top five states by sample size') +\n",
    "  xlab('Date') +\n",
    "  ylab('Sample size') +\n",
    "  scale_x_date(date_labels=\"%b\",date_breaks=\"1 month\")"
   ]
  },
  {
   "cell_type": "code",
   "execution_count": null,
   "metadata": {},
   "outputs": [],
   "source": []
  }
 ],
 "metadata": {
  "kernelspec": {
   "display_name": "R",
   "language": "R",
   "name": "ir"
  },
  "language_info": {
   "codemirror_mode": "r",
   "file_extension": ".r",
   "mimetype": "text/x-r-source",
   "name": "R",
   "pygments_lexer": "r",
   "version": "3.6.1"
  }
 },
 "nbformat": 4,
 "nbformat_minor": 2
}
